{
 "cells": [
  {
   "cell_type": "code",
   "execution_count": 1,
   "metadata": {},
   "outputs": [],
   "source": [
    "import torch\n",
    "import torch.nn as nn\n",
    "import torch.nn.functional as F\n",
    "import torch.optim as optim\n",
    "import matplotlib.pyplot as plt\n",
    "\n",
    "from torch.utils.data import DataLoader\n",
    "from torchvision import datasets, transforms"
   ]
  },
  {
   "cell_type": "code",
   "execution_count": 2,
   "metadata": {},
   "outputs": [],
   "source": [
    " device = torch.device('cuda' if torch.cuda.is_available() else 'cpu')"
   ]
  },
  {
   "cell_type": "code",
   "execution_count": 3,
   "metadata": {},
   "outputs": [],
   "source": [
    "transforms = transforms.Compose([transforms.ToTensor()])\n",
    "train_dataset = datasets.MNIST('./data',train=True,download=True,transform=transforms)\n",
    "test_dataset = datasets.MNIST('./data',train=False,download=True,transform=transforms)"
   ]
  },
  {
   "cell_type": "code",
   "execution_count": 4,
   "metadata": {},
   "outputs": [],
   "source": [
    "train_iterator = DataLoader(train_dataset, batch_size=128, shuffle=True)\n",
    "test_iterator = DataLoader(test_dataset, batch_size=128)"
   ]
  },
  {
   "cell_type": "code",
   "execution_count": 5,
   "metadata": {},
   "outputs": [],
   "source": [
    "class Encoder(nn.Module):\n",
    "    def __init__(self):\n",
    "        super().__init__()\n",
    "        self.encoder_hidden_layer1= nn.Linear(in_features=784, out_features=128)\n",
    "        self.encoder_hidden_layer2= nn.Linear(in_features=128, out_features=64)\n",
    "        self.mu = nn.Linear(in_features=64, out_features=10)\n",
    "        self.var = nn.Linear(in_features=64, out_features=10)\n",
    "\n",
    "    def forward(self, x):\n",
    "        hidden1 = F.relu(self.encoder_hidden_layer1(x))\n",
    "        hidden2 = F.relu(self.encoder_hidden_layer2(hidden1))\n",
    "        z_mu = self.mu(hidden2)\n",
    "        z_var = self.var(hidden2)\n",
    "        return z_mu, z_var"
   ]
  },
  {
   "cell_type": "code",
   "execution_count": 6,
   "metadata": {},
   "outputs": [],
   "source": [
    "class Decoder(nn.Module):\n",
    "    def __init__(self):\n",
    "        super().__init__()\n",
    "        self.decoder_hidden_layer1= nn.Linear(in_features=10, out_features=64)\n",
    "        self.decoder_hidden_layer2= nn.Linear(in_features=64, out_features=128)\n",
    "        self.out = nn.Linear(in_features=128, out_features=784)\n",
    "\n",
    "    def forward(self, x):\n",
    "        hidden1 = F.relu(self.decoder_hidden_layer1(x))\n",
    "        hidden2 = F.relu(self.decoder_hidden_layer2(hidden1))\n",
    "        predicted = torch.sigmoid(self.out(hidden2))\n",
    "        return predicted\n"
   ]
  },
  {
   "cell_type": "code",
   "execution_count": 7,
   "metadata": {},
   "outputs": [],
   "source": [
    "class VAE(nn.Module):\n",
    "    def __init__(self, enc, dec):\n",
    "        super().__init__()\n",
    "\n",
    "        self.enc = enc\n",
    "        self.dec = dec\n",
    "\n",
    "    def forward(self, x):\n",
    "        #encode\n",
    "        z_mu, z_var = self.enc(x)\n",
    "        std = torch.exp(z_var / 2)\n",
    "        eps = torch.randn_like(std)\n",
    "        x_sample = eps.mul(std).add_(z_mu)\n",
    "\n",
    "        # decode\n",
    "        predicted = self.dec(x_sample)\n",
    "        return predicted, z_mu, z_var\n"
   ]
  },
  {
   "cell_type": "code",
   "execution_count": 8,
   "metadata": {},
   "outputs": [],
   "source": [
    "encoder = Encoder()\n",
    "decoder = Decoder()\n",
    "model = VAE(encoder, decoder).to(device)\n",
    "optimizer = optim.Adam(model.parameters(), lr=0.0001)"
   ]
  },
  {
   "cell_type": "code",
   "execution_count": 9,
   "metadata": {},
   "outputs": [],
   "source": [
    "def train():\n",
    "    model.train()\n",
    "    train_loss = 0\n",
    "    for i, (x, _) in enumerate(train_iterator):\n",
    "        x = x.view(-1, 28 * 28)\n",
    "        x = x.to(device)\n",
    "        optimizer.zero_grad()\n",
    "        x_sample, z_mu, z_var = model(x)\n",
    "        # reconstruction loss\n",
    "        recon_loss = F.binary_cross_entropy(x_sample, x, size_average=False)\n",
    "        # kl divergence loss\n",
    "        kl_loss = 0.001 * torch.sum(torch.exp(z_var) + z_mu**2 - 1.0 - z_var)\n",
    "        # total loss\n",
    "        loss = recon_loss + kl_loss       # backward pass\n",
    "        loss.backward()\n",
    "        train_loss += loss.item()\n",
    "        # update the weights\n",
    "        optimizer.step()\n",
    "\n",
    "    return train_loss"
   ]
  },
  {
   "cell_type": "code",
   "execution_count": 10,
   "metadata": {},
   "outputs": [],
   "source": [
    "def test():\n",
    "    model.eval()\n",
    "    test_loss = 0\n",
    "\n",
    "    with torch.no_grad():\n",
    "        for i, (x, _) in enumerate(test_iterator):\n",
    "            x = x.view(-1, 28 * 28)\n",
    "            x = x.to(device)\n",
    "            x_sample, z_mu, z_var = model(x)\n",
    "            recon_loss = F.binary_cross_entropy(x_sample, x, size_average=False)         \n",
    "            kl_loss = 0.001 * torch.sum(torch.exp(z_var) + z_mu**2 - 1.0 - z_var) \n",
    "            loss = recon_loss + kl_loss\n",
    "            test_loss += loss.item()\n",
    "\n",
    "    return test_loss\n"
   ]
  },
  {
   "cell_type": "code",
   "execution_count": 11,
   "metadata": {},
   "outputs": [
    {
     "name": "stderr",
     "output_type": "stream",
     "text": [
      "C:\\Users\\supri\\anaconda3\\lib\\site-packages\\torch\\nn\\_reduction.py:43: UserWarning: size_average and reduce args will be deprecated, please use reduction='sum' instead.\n",
      "  warnings.warn(warning.format(ret))\n"
     ]
    },
    {
     "name": "stdout",
     "output_type": "stream",
     "text": [
      "Epoch 0, Train Loss: 281.23, Test Loss: 206.77\n",
      "Epoch 1, Train Loss: 198.74, Test Loss: 190.37\n",
      "Epoch 2, Train Loss: 186.76, Test Loss: 180.02\n",
      "Epoch 3, Train Loss: 172.31, Test Loss: 165.77\n",
      "Epoch 4, Train Loss: 159.02, Test Loss: 150.22\n",
      "Epoch 5, Train Loss: 146.23, Test Loss: 141.34\n",
      "Epoch 6, Train Loss: 139.34, Test Loss: 135.12\n",
      "Epoch 7, Train Loss: 133.84, Test Loss: 130.22\n",
      "Epoch 8, Train Loss: 129.08, Test Loss: 125.51\n",
      "Epoch 9, Train Loss: 124.88, Test Loss: 122.01\n",
      "Epoch 10, Train Loss: 121.77, Test Loss: 119.18\n",
      "Epoch 11, Train Loss: 119.20, Test Loss: 116.78\n",
      "Epoch 12, Train Loss: 116.97, Test Loss: 114.71\n",
      "Epoch 13, Train Loss: 114.83, Test Loss: 112.52\n",
      "Epoch 14, Train Loss: 112.69, Test Loss: 110.57\n",
      "Epoch 15, Train Loss: 110.91, Test Loss: 108.99\n",
      "Epoch 16, Train Loss: 109.50, Test Loss: 107.74\n",
      "Epoch 17, Train Loss: 108.35, Test Loss: 106.65\n",
      "Epoch 18, Train Loss: 107.39, Test Loss: 105.73\n",
      "Epoch 19, Train Loss: 106.54, Test Loss: 104.99\n",
      "Epoch 20, Train Loss: 105.76, Test Loss: 104.24\n",
      "Epoch 21, Train Loss: 105.09, Test Loss: 103.62\n",
      "Epoch 22, Train Loss: 104.48, Test Loss: 103.10\n",
      "Epoch 23, Train Loss: 103.91, Test Loss: 102.52\n",
      "Epoch 24, Train Loss: 103.40, Test Loss: 102.05\n",
      "Epoch 25, Train Loss: 102.92, Test Loss: 101.59\n",
      "Epoch 26, Train Loss: 102.49, Test Loss: 101.20\n",
      "Epoch 27, Train Loss: 102.08, Test Loss: 100.78\n",
      "Epoch 28, Train Loss: 101.70, Test Loss: 100.43\n",
      "Epoch 29, Train Loss: 101.34, Test Loss: 100.13\n",
      "Epoch 30, Train Loss: 100.99, Test Loss: 99.74\n",
      "Epoch 31, Train Loss: 100.67, Test Loss: 99.49\n",
      "Epoch 32, Train Loss: 100.36, Test Loss: 99.18\n",
      "Epoch 33, Train Loss: 100.06, Test Loss: 98.95\n",
      "Epoch 34, Train Loss: 99.77, Test Loss: 98.66\n",
      "Epoch 35, Train Loss: 99.49, Test Loss: 98.43\n",
      "Epoch 36, Train Loss: 99.23, Test Loss: 98.14\n",
      "Epoch 37, Train Loss: 98.97, Test Loss: 97.90\n",
      "Epoch 38, Train Loss: 98.72, Test Loss: 97.66\n",
      "Epoch 39, Train Loss: 98.48, Test Loss: 97.50\n",
      "Epoch 40, Train Loss: 98.24, Test Loss: 97.23\n",
      "Epoch 41, Train Loss: 98.00, Test Loss: 96.96\n",
      "Epoch 42, Train Loss: 97.79, Test Loss: 96.84\n",
      "Epoch 43, Train Loss: 97.57, Test Loss: 96.64\n",
      "Epoch 44, Train Loss: 97.37, Test Loss: 96.45\n",
      "Epoch 45, Train Loss: 97.15, Test Loss: 96.28\n",
      "Epoch 46, Train Loss: 96.95, Test Loss: 96.06\n",
      "Epoch 47, Train Loss: 96.75, Test Loss: 95.81\n",
      "Epoch 48, Train Loss: 96.55, Test Loss: 95.64\n",
      "Epoch 49, Train Loss: 96.36, Test Loss: 95.44\n"
     ]
    }
   ],
   "source": [
    "best_test_loss = float('inf')\n",
    "N_EPOCHS = 50\n",
    "Loss=[]\n",
    "for e in range(N_EPOCHS):\n",
    "    train_loss = train()\n",
    "    test_loss = test()\n",
    "\n",
    "    train_loss /= len(train_dataset)\n",
    "    test_loss /= len(test_dataset)\n",
    "    Loss.append(train_loss)\n",
    "    print(f'Epoch {e}, Train Loss: {train_loss:.2f}, Test Loss: {test_loss:.2f}')"
   ]
  },
  {
   "cell_type": "code",
   "execution_count": 12,
   "metadata": {},
   "outputs": [
    {
     "data": {
      "image/png": "[encoded data removed]",
      "text/plain": [
       "<Figure size 432x288 with 1 Axes>"
      ]
     },
     "metadata": {
      "needs_background": "light"
     },
     "output_type": "display_data"
    }
   ],
   "source": [
    "plt.plot(Loss)\n",
    "plt.show()"
   ]
  },
  {
   "cell_type": "markdown",
   "metadata": {},
   "source": [
    "# Reconstuction of Image"
   ]
  },
  {
   "cell_type": "code",
   "execution_count": 13,
   "metadata": {},
   "outputs": [],
   "source": [
    "def show_torch_image(torch_tensor):\n",
    "    plt.imshow(torch_tensor.numpy().reshape(28, 28), cmap='gray')\n",
    "    plt.show()"
   ]
  },
  {
   "cell_type": "code",
   "execution_count": 45,
   "metadata": {},
   "outputs": [
    {
     "data": {
      "text/plain": [
       "10000"
      ]
     },
     "execution_count": 45,
     "metadata": {},
     "output_type": "execute_result"
    }
   ],
   "source": [
    "model.eval()\n",
    "predictions = []\n",
    "\n",
    "with torch.no_grad():\n",
    "    for i, (batch_features, _) in enumerate(test_iterator):\n",
    "        batch_features = batch_features.view(-1, 784).to(device)\n",
    "        x_sample1, z_mu1, z_var1 = model(batch_features)  \n",
    "        for prediction in x_sample1:\n",
    "            predictions.append(prediction)\n",
    "  \n",
    "\n",
    "\n",
    "       \n",
    "len(predictions)   "
   ]
  },
  {
   "cell_type": "code",
   "execution_count": 46,
   "metadata": {},
   "outputs": [
    {
     "data": {
      "text/plain": [
       "torch.Size([784])"
      ]
     },
     "execution_count": 46,
     "metadata": {},
     "output_type": "execute_result"
    }
   ],
   "source": [
    "predictions[0].shape"
   ]
  },
  {
   "cell_type": "code",
   "execution_count": 47,
   "metadata": {},
   "outputs": [
    {
     "data": {
      "image/png": "[encoded data removed]",
      "text/plain": [
       "<Figure size 432x288 with 1 Axes>"
      ]
     },
     "metadata": {
      "needs_background": "light"
     },
     "output_type": "display_data"
    }
   ],
   "source": [
    "# Real Image\n",
    "show_torch_image(test_dataset[4][0])"
   ]
  },
  {
   "cell_type": "code",
   "execution_count": 49,
   "metadata": {},
   "outputs": [
    {
     "data": {
      "image/png": "[encoded data removed]",
      "text/plain": [
       "<Figure size 432x288 with 1 Axes>"
      ]
     },
     "metadata": {
      "needs_background": "light"
     },
     "output_type": "display_data"
    }
   ],
   "source": [
    "# generated image\n",
    "show_torch_image(predictions[4])"
   ]
  },
  {
   "cell_type": "markdown",
   "metadata": {},
   "source": [
    "# generation of new image"
   ]
  },
  {
   "cell_type": "code",
   "execution_count": 50,
   "metadata": {},
   "outputs": [
    {
     "name": "stdout",
     "output_type": "stream",
     "text": [
      "torch.Size([1, 10])\n",
      "torch.Size([28, 28])\n"
     ]
    },
    {
     "data": {
      "text/plain": [
       "<matplotlib.image.AxesImage at 0x2766bde2a48>"
      ]
     },
     "execution_count": 50,
     "metadata": {},
     "output_type": "execute_result"
    },
    {
     "data": {
      "image/png": "[encoded data removed]",
      "text/plain": [
       "<Figure size 432x288 with 1 Axes>"
      ]
     },
     "metadata": {
      "needs_background": "light"
     },
     "output_type": "display_data"
    }
   ],
   "source": [
    "# sample and generate a image\n",
    "z = torch.randn(1, 10).to(device)\n",
    "\n",
    "# run only the decoder\n",
    "reconstructed_img = model.dec(z)\n",
    "img = reconstructed_img.view(28, 28).data\n",
    "\n",
    "print(z.shape)\n",
    "print(img.shape)\n",
    "\n",
    "plt.imshow(img, cmap='gray')"
   ]
  },
  {
   "cell_type": "code",
   "execution_count": null,
   "metadata": {},
   "outputs": [],
   "source": []
  },
  {
   "cell_type": "code",
   "execution_count": null,
   "metadata": {},
   "outputs": [],
   "source": []
  }
 ],
 "metadata": {
  "kernelspec": {
   "display_name": "Python 3",
   "language": "python",
   "name": "python3"
  },
  "language_info": {
   "codemirror_mode": {
    "name": "ipython",
    "version": 3
   },
   "file_extension": ".py",
   "mimetype": "text/x-python",
   "name": "python",
   "nbconvert_exporter": "python",
   "pygments_lexer": "ipython3",
   "version": "3.7.4"
  }
 },
 "nbformat": 4,
 "nbformat_minor": 4
}
