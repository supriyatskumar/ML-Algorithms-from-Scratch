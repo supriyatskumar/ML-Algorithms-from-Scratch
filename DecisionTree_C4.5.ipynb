{
 "cells": [
  {
   "cell_type": "code",
   "execution_count": 1,
   "metadata": {},
   "outputs": [],
   "source": [
    "import numpy as np\n",
    "import pandas as pd\n",
    "import matplotlib.pyplot as plt\n",
    "from sklearn.model_selection import train_test_split\n",
    "from scipy.stats import mode\n",
    "from pprint import pprint"
   ]
  },
  {
   "cell_type": "code",
   "execution_count": 2,
   "metadata": {},
   "outputs": [],
   "source": [
    "#Loding Data\n",
    "data=pd.read_csv('C:/Users/Supriya/Desktop/DataSet/heart.csv')"
   ]
  },
  {
   "cell_type": "code",
   "execution_count": 3,
   "metadata": {
    "scrolled": true
   },
   "outputs": [
    {
     "data": {
      "text/html": [
       "<div>\n",
       "<style scoped>\n",
       "    .dataframe tbody tr th:only-of-type {\n",
       "        vertical-align: middle;\n",
       "    }\n",
       "\n",
       "    .dataframe tbody tr th {\n",
       "        vertical-align: top;\n",
       "    }\n",
       "\n",
       "    .dataframe thead th {\n",
       "        text-align: right;\n",
       "    }\n",
       "</style>\n",
       "<table border=\"1\" class=\"dataframe\">\n",
       "  <thead>\n",
       "    <tr style=\"text-align: right;\">\n",
       "      <th></th>\n",
       "      <th>age</th>\n",
       "      <th>sex</th>\n",
       "      <th>cp</th>\n",
       "      <th>trestbps</th>\n",
       "      <th>chol</th>\n",
       "      <th>fbs</th>\n",
       "      <th>restecg</th>\n",
       "      <th>thalach</th>\n",
       "      <th>exang</th>\n",
       "      <th>oldpeak</th>\n",
       "      <th>slope</th>\n",
       "      <th>ca</th>\n",
       "      <th>thal</th>\n",
       "      <th>target</th>\n",
       "    </tr>\n",
       "  </thead>\n",
       "  <tbody>\n",
       "    <tr>\n",
       "      <td>0</td>\n",
       "      <td>63</td>\n",
       "      <td>1</td>\n",
       "      <td>3</td>\n",
       "      <td>145</td>\n",
       "      <td>233</td>\n",
       "      <td>1</td>\n",
       "      <td>0</td>\n",
       "      <td>150</td>\n",
       "      <td>0</td>\n",
       "      <td>2.3</td>\n",
       "      <td>0</td>\n",
       "      <td>0</td>\n",
       "      <td>1</td>\n",
       "      <td>1</td>\n",
       "    </tr>\n",
       "    <tr>\n",
       "      <td>1</td>\n",
       "      <td>37</td>\n",
       "      <td>1</td>\n",
       "      <td>2</td>\n",
       "      <td>130</td>\n",
       "      <td>250</td>\n",
       "      <td>0</td>\n",
       "      <td>1</td>\n",
       "      <td>187</td>\n",
       "      <td>0</td>\n",
       "      <td>3.5</td>\n",
       "      <td>0</td>\n",
       "      <td>0</td>\n",
       "      <td>2</td>\n",
       "      <td>1</td>\n",
       "    </tr>\n",
       "    <tr>\n",
       "      <td>2</td>\n",
       "      <td>41</td>\n",
       "      <td>0</td>\n",
       "      <td>1</td>\n",
       "      <td>130</td>\n",
       "      <td>204</td>\n",
       "      <td>0</td>\n",
       "      <td>0</td>\n",
       "      <td>172</td>\n",
       "      <td>0</td>\n",
       "      <td>1.4</td>\n",
       "      <td>2</td>\n",
       "      <td>0</td>\n",
       "      <td>2</td>\n",
       "      <td>1</td>\n",
       "    </tr>\n",
       "    <tr>\n",
       "      <td>3</td>\n",
       "      <td>56</td>\n",
       "      <td>1</td>\n",
       "      <td>1</td>\n",
       "      <td>120</td>\n",
       "      <td>236</td>\n",
       "      <td>0</td>\n",
       "      <td>1</td>\n",
       "      <td>178</td>\n",
       "      <td>0</td>\n",
       "      <td>0.8</td>\n",
       "      <td>2</td>\n",
       "      <td>0</td>\n",
       "      <td>2</td>\n",
       "      <td>1</td>\n",
       "    </tr>\n",
       "    <tr>\n",
       "      <td>4</td>\n",
       "      <td>57</td>\n",
       "      <td>0</td>\n",
       "      <td>0</td>\n",
       "      <td>120</td>\n",
       "      <td>354</td>\n",
       "      <td>0</td>\n",
       "      <td>1</td>\n",
       "      <td>163</td>\n",
       "      <td>1</td>\n",
       "      <td>0.6</td>\n",
       "      <td>2</td>\n",
       "      <td>0</td>\n",
       "      <td>2</td>\n",
       "      <td>1</td>\n",
       "    </tr>\n",
       "  </tbody>\n",
       "</table>\n",
       "</div>"
      ],
      "text/plain": [
       "   age  sex  cp  trestbps  chol  fbs  restecg  thalach  exang  oldpeak  slope  \\\n",
       "0   63    1   3       145   233    1        0      150      0      2.3      0   \n",
       "1   37    1   2       130   250    0        1      187      0      3.5      0   \n",
       "2   41    0   1       130   204    0        0      172      0      1.4      2   \n",
       "3   56    1   1       120   236    0        1      178      0      0.8      2   \n",
       "4   57    0   0       120   354    0        1      163      1      0.6      2   \n",
       "\n",
       "   ca  thal  target  \n",
       "0   0     1       1  \n",
       "1   0     2       1  \n",
       "2   0     2       1  \n",
       "3   0     2       1  \n",
       "4   0     2       1  "
      ]
     },
     "execution_count": 3,
     "metadata": {},
     "output_type": "execute_result"
    }
   ],
   "source": [
    "data.head()"
   ]
  },
  {
   "cell_type": "markdown",
   "metadata": {},
   "source": [
    "Attribute         Type\n",
    "age:              numeric\n",
    "sex:              categorical (1:Male; 0:Female)\n",
    "cp                categorical (0:typical angina; 1:atypical angina; 2:non-anginal pain; 3:asymptomatic) (chest pain)\n",
    "trestbps:         numeric                                                       (resting blood pressure)\n",
    "chol:             numeric\n",
    "fbs:              categorical (0:lower than 120mg/ml; 1:greater than 120mg/ml) (fasting blood sugar)\n",
    "restecg:          numeric                                                       (resting electrocardiographic results)\n",
    "thalach:          numeric                                                       (maximum heart rate achieved)\n",
    "exang:            categorical  (1:Yes; 0:No)                                    (exercise induced angina )\n",
    "oldpeak:          numeric                                                  (ST depression induced by exercise relative to rest)\n",
    "slope:            categorical  (0:upsloping; 1:flat; 3: downsloping)       (the slope of the peak exercise ST segment)\n",
    "ca:               categorical  (0:0; 1:1; 2:2; 3:3; 4:4)                        (number of major vessels)\n",
    "thal:             categorical (1:normal; 2:fixed defect; 3:reversable defect)"
   ]
  },
  {
   "cell_type": "code",
   "execution_count": 4,
   "metadata": {
    "scrolled": true
   },
   "outputs": [
    {
     "name": "stdout",
     "output_type": "stream",
     "text": [
      "<class 'pandas.core.frame.DataFrame'>\n",
      "RangeIndex: 303 entries, 0 to 302\n",
      "Data columns (total 14 columns):\n",
      "age         303 non-null int64\n",
      "sex         303 non-null int64\n",
      "cp          303 non-null int64\n",
      "trestbps    303 non-null int64\n",
      "chol        303 non-null int64\n",
      "fbs         303 non-null int64\n",
      "restecg     303 non-null int64\n",
      "thalach     303 non-null int64\n",
      "exang       303 non-null int64\n",
      "oldpeak     303 non-null float64\n",
      "slope       303 non-null int64\n",
      "ca          303 non-null int64\n",
      "thal        303 non-null int64\n",
      "target      303 non-null int64\n",
      "dtypes: float64(1), int64(13)\n",
      "memory usage: 33.3 KB\n"
     ]
    }
   ],
   "source": [
    "data.info()"
   ]
  },
  {
   "cell_type": "code",
   "execution_count": 5,
   "metadata": {},
   "outputs": [],
   "source": [
    "#Converting categorical features data_type to 'object'\n",
    "col=['sex','cp','fbs','exang','slope','ca','thal','restecg','target']\n",
    "for i in col:\n",
    "    data[i] = data[i].astype('object')"
   ]
  },
  {
   "cell_type": "code",
   "execution_count": 6,
   "metadata": {},
   "outputs": [
    {
     "data": {
      "text/plain": [
       "{'age': 54, 'trestbps': 131, 'chol': 246, 'thalach': 149, 'oldpeak': 1}"
      ]
     },
     "execution_count": 6,
     "metadata": {},
     "output_type": "execute_result"
    }
   ],
   "source": [
    "#encoding continuous valued features (binary split)\n",
    "# for each continuous valued column: all values <= column_mean labeled as 0 & all values > column_mean labeled as 1\n",
    "threshold={}\n",
    "for col in data.select_dtypes(exclude=object).columns:\n",
    "    threshold[col]=int(data[col].mean())\n",
    "    data[col].where(data[col]<=threshold[col],1,inplace=True)\n",
    "    data[col].replace(to_replace=data[col][data[col]!=1], value=0,inplace=True)\n",
    "    data[col] = data[col].astype('object')\n",
    "threshold"
   ]
  },
  {
   "cell_type": "code",
   "execution_count": 7,
   "metadata": {},
   "outputs": [
    {
     "data": {
      "text/html": [
       "<div>\n",
       "<style scoped>\n",
       "    .dataframe tbody tr th:only-of-type {\n",
       "        vertical-align: middle;\n",
       "    }\n",
       "\n",
       "    .dataframe tbody tr th {\n",
       "        vertical-align: top;\n",
       "    }\n",
       "\n",
       "    .dataframe thead th {\n",
       "        text-align: right;\n",
       "    }\n",
       "</style>\n",
       "<table border=\"1\" class=\"dataframe\">\n",
       "  <thead>\n",
       "    <tr style=\"text-align: right;\">\n",
       "      <th></th>\n",
       "      <th>age</th>\n",
       "      <th>sex</th>\n",
       "      <th>cp</th>\n",
       "      <th>trestbps</th>\n",
       "      <th>chol</th>\n",
       "      <th>fbs</th>\n",
       "      <th>restecg</th>\n",
       "      <th>thalach</th>\n",
       "      <th>exang</th>\n",
       "      <th>oldpeak</th>\n",
       "      <th>slope</th>\n",
       "      <th>ca</th>\n",
       "      <th>thal</th>\n",
       "      <th>target</th>\n",
       "    </tr>\n",
       "  </thead>\n",
       "  <tbody>\n",
       "    <tr>\n",
       "      <td>0</td>\n",
       "      <td>1</td>\n",
       "      <td>1</td>\n",
       "      <td>3</td>\n",
       "      <td>1</td>\n",
       "      <td>0</td>\n",
       "      <td>1</td>\n",
       "      <td>0</td>\n",
       "      <td>1</td>\n",
       "      <td>0</td>\n",
       "      <td>1</td>\n",
       "      <td>0</td>\n",
       "      <td>0</td>\n",
       "      <td>1</td>\n",
       "      <td>1</td>\n",
       "    </tr>\n",
       "    <tr>\n",
       "      <td>1</td>\n",
       "      <td>0</td>\n",
       "      <td>1</td>\n",
       "      <td>2</td>\n",
       "      <td>0</td>\n",
       "      <td>1</td>\n",
       "      <td>0</td>\n",
       "      <td>1</td>\n",
       "      <td>1</td>\n",
       "      <td>0</td>\n",
       "      <td>1</td>\n",
       "      <td>0</td>\n",
       "      <td>0</td>\n",
       "      <td>2</td>\n",
       "      <td>1</td>\n",
       "    </tr>\n",
       "    <tr>\n",
       "      <td>2</td>\n",
       "      <td>0</td>\n",
       "      <td>0</td>\n",
       "      <td>1</td>\n",
       "      <td>0</td>\n",
       "      <td>0</td>\n",
       "      <td>0</td>\n",
       "      <td>0</td>\n",
       "      <td>1</td>\n",
       "      <td>0</td>\n",
       "      <td>1</td>\n",
       "      <td>2</td>\n",
       "      <td>0</td>\n",
       "      <td>2</td>\n",
       "      <td>1</td>\n",
       "    </tr>\n",
       "    <tr>\n",
       "      <td>3</td>\n",
       "      <td>1</td>\n",
       "      <td>1</td>\n",
       "      <td>1</td>\n",
       "      <td>0</td>\n",
       "      <td>0</td>\n",
       "      <td>0</td>\n",
       "      <td>1</td>\n",
       "      <td>1</td>\n",
       "      <td>0</td>\n",
       "      <td>0</td>\n",
       "      <td>2</td>\n",
       "      <td>0</td>\n",
       "      <td>2</td>\n",
       "      <td>1</td>\n",
       "    </tr>\n",
       "    <tr>\n",
       "      <td>4</td>\n",
       "      <td>1</td>\n",
       "      <td>0</td>\n",
       "      <td>0</td>\n",
       "      <td>0</td>\n",
       "      <td>1</td>\n",
       "      <td>0</td>\n",
       "      <td>1</td>\n",
       "      <td>1</td>\n",
       "      <td>1</td>\n",
       "      <td>0</td>\n",
       "      <td>2</td>\n",
       "      <td>0</td>\n",
       "      <td>2</td>\n",
       "      <td>1</td>\n",
       "    </tr>\n",
       "  </tbody>\n",
       "</table>\n",
       "</div>"
      ],
      "text/plain": [
       "  age sex cp trestbps chol fbs restecg thalach exang oldpeak slope ca thal  \\\n",
       "0   1   1  3        1    0   1       0       1     0       1     0  0    1   \n",
       "1   0   1  2        0    1   0       1       1     0       1     0  0    2   \n",
       "2   0   0  1        0    0   0       0       1     0       1     2  0    2   \n",
       "3   1   1  1        0    0   0       1       1     0       0     2  0    2   \n",
       "4   1   0  0        0    1   0       1       1     1       0     2  0    2   \n",
       "\n",
       "  target  \n",
       "0      1  \n",
       "1      1  \n",
       "2      1  \n",
       "3      1  \n",
       "4      1  "
      ]
     },
     "execution_count": 7,
     "metadata": {},
     "output_type": "execute_result"
    }
   ],
   "source": [
    "data.head()"
   ]
  },
  {
   "cell_type": "markdown",
   "metadata": {},
   "source": [
    "# Train, Test & Validation split"
   ]
  },
  {
   "cell_type": "code",
   "execution_count": 28,
   "metadata": {},
   "outputs": [],
   "source": [
    "X_train,X_test,Y_train,Y_test=train_test_split(data.iloc[:,:-1],data.iloc[:,-1],train_size=0.8,random_state=29)"
   ]
  },
  {
   "cell_type": "code",
   "execution_count": 29,
   "metadata": {},
   "outputs": [
    {
     "data": {
      "text/plain": [
       "((242, 13), (61, 13), (242,), (61,))"
      ]
     },
     "execution_count": 29,
     "metadata": {},
     "output_type": "execute_result"
    }
   ],
   "source": [
    "X_train.shape,X_test.shape,Y_train.shape,Y_test.shape"
   ]
  },
  {
   "cell_type": "code",
   "execution_count": 30,
   "metadata": {},
   "outputs": [],
   "source": [
    "X_train,X_val,Y_train,Y_val=train_test_split(X_train,Y_train,train_size=0.88,random_state=29)"
   ]
  },
  {
   "cell_type": "code",
   "execution_count": 31,
   "metadata": {},
   "outputs": [
    {
     "name": "stdout",
     "output_type": "stream",
     "text": [
      "X_train: (212, 13) \n",
      "Y_train: (212,) \n",
      "X_val: (30, 13) \n",
      "Y_val: (30,) \n",
      "X_test: (61, 13) \n",
      "Y_test: (61,)\n"
     ]
    }
   ],
   "source": [
    "print('X_train:',X_train.shape,'\\nY_train:',Y_train.shape,'\\nX_val:',X_val.shape,'\\nY_val:',Y_val.shape,\n",
    "      '\\nX_test:',X_test.shape,'\\nY_test:',Y_test.shape)"
   ]
  },
  {
   "cell_type": "code",
   "execution_count": 32,
   "metadata": {},
   "outputs": [],
   "source": [
    "training_data=X_train.copy()\n",
    "training_data['target']=Y_train.copy()\n",
    "validation_data=X_val.copy()\n",
    "validation_data['target']=Y_val.copy()\n",
    "testing_data=X_test.copy()\n",
    "testing_data['target']=Y_test.copy()"
   ]
  },
  {
   "cell_type": "markdown",
   "metadata": {},
   "source": [
    "# C4.5"
   ]
  },
  {
   "cell_type": "code",
   "execution_count": 33,
   "metadata": {},
   "outputs": [],
   "source": [
    "# Function to calculate entropy\n",
    "def Entropy(col):\n",
    "    values,counts = np.unique(col,return_counts = True)\n",
    "    entropy = np.sum([(-counts[i]/np.sum(counts))*np.log2(counts[i]/np.sum(counts)) for i in range(len(values))])\n",
    "    return entropy"
   ]
  },
  {
   "cell_type": "code",
   "execution_count": 34,
   "metadata": {},
   "outputs": [],
   "source": [
    "# Function to calculate information gain\n",
    "def InformationGain(data,split_feature):\n",
    "    Entropy_BeforeSplit = Entropy(data['target'])\n",
    "    values,counts= np.unique(data[split_feature],return_counts=True)\n",
    "    Entropy_AfterSplit = np.sum([(counts[i]/np.sum(counts))*\n",
    "                               Entropy(data[data[split_feature]==values[i]]['target']) for i in range(len(values))])\n",
    "    Information_Gain = Entropy_BeforeSplit - Entropy_AfterSplit\n",
    "    return Information_Gain"
   ]
  },
  {
   "cell_type": "code",
   "execution_count": 35,
   "metadata": {},
   "outputs": [],
   "source": [
    "# Function to select best feature to split\n",
    "def SplitAttribute(curData):\n",
    "    values=[]\n",
    "    features=[]\n",
    "    for feature in curData.iloc[:,:-1].columns:\n",
    "        features.append(feature)\n",
    "        IG=InformationGain(curData,feature)\n",
    "        values.append(IG) \n",
    "    bestf = features[np.argmax(values)] \n",
    "    return  bestf         "
   ]
  },
  {
   "cell_type": "code",
   "execution_count": 36,
   "metadata": {},
   "outputs": [],
   "source": [
    "def GenerateTree(CurData,originaldata,theta):\n",
    "    # conditions to stop recurssive splitting \n",
    "    if Entropy(CurData['target'])<=theta: # stop splitting if entropy of node is <= cut-off value\n",
    "        return mode(CurData['target'])[0][0]\n",
    "    elif len(CurData.iloc[:,:-1].columns)==0:# stop splitting if number of independent_features==0\n",
    "        return mode(CurData['target'])[0][0]\n",
    "    elif len(CurData)==0:                    # stop splitting if dataset is empty\n",
    "        return mode(originaldata['target'])[0][0]\n",
    "    \n",
    "   # grow tree\n",
    "    else:\n",
    "        best_feature=SplitAttribute(CurData) # selecting best feature to split\n",
    "        tree = {best_feature:{}}             # dictionary to store tree values\n",
    "        for branch in np.unique(CurData[best_feature]):\n",
    "            subset=CurData[CurData[best_feature]==branch].drop(labels=best_feature,axis=1)\n",
    "            subtree=GenerateTree(subset,originaldata,theta)\n",
    "            tree[best_feature][branch] = subtree \n",
    "            \n",
    "    return(tree)"
   ]
  },
  {
   "cell_type": "code",
   "execution_count": 37,
   "metadata": {},
   "outputs": [],
   "source": [
    "# Function to predict labels for new data set\n",
    "def predict(data_dict,tree):\n",
    "    for key in list(data_dict.keys()):\n",
    "        if key in list(tree.keys()):\n",
    "            try:\n",
    "                result = tree[key][data_dict[key]] \n",
    "            except:\n",
    "                return 1\n",
    "  \n",
    "            result = tree[key][data_dict[key]]\n",
    "            if isinstance(result,dict):\n",
    "                return predict(data_dict,result)\n",
    "            else:\n",
    "                return result"
   ]
  },
  {
   "cell_type": "code",
   "execution_count": 38,
   "metadata": {},
   "outputs": [],
   "source": [
    "def accuracy_score(data,tree):\n",
    "    data_dict = data.iloc[:,:-1].to_dict(orient = \"records\")\n",
    "    predicted = pd.DataFrame(columns=[\"predicted\"]) \n",
    "    for i in range(len(data)):\n",
    "        predicted.loc[i,\"predicted\"] = predict(data_dict[i],tree) \n",
    "    return (np.sum(predicted[\"predicted\"] ==data[\"target\"].reset_index(drop=True))/len(data))*100"
   ]
  },
  {
   "cell_type": "code",
   "execution_count": 39,
   "metadata": {},
   "outputs": [],
   "source": [
    "def error_rate(data,tree):\n",
    "    data_dict = data.iloc[:,:-1].to_dict(orient = \"records\")\n",
    "    predicted = pd.DataFrame(columns=[\"predicted\"]) \n",
    "    for i in range(len(data)):\n",
    "        predicted.loc[i,\"predicted\"] = predict(data_dict[i],tree) \n",
    "    return (np.sum(predicted[\"predicted\"] !=data[\"target\"].reset_index(drop=True))/len(data))*100"
   ]
  },
  {
   "cell_type": "markdown",
   "metadata": {},
   "source": [
    "# Train the tree and Test results"
   ]
  },
  {
   "cell_type": "code",
   "execution_count": 40,
   "metadata": {
    "scrolled": true
   },
   "outputs": [],
   "source": [
    "theta=[0.2,0.4,0.6,0.8] # cut-off values\n",
    "tree={}\n",
    "Accuracy={}\n",
    "Error={}\n",
    "for i in theta:\n",
    "    tree[i] = GenerateTree(training_data,training_data,i)\n",
    "    Accuracy[i]=(accuracy_score(training_data,tree[i]),accuracy_score(validation_data,tree[i]),accuracy_score(testing_data,tree[i]))\n",
    "    Error[i]=(error_rate(training_data,tree[i]),error_rate(validation_data,tree[i]),error_rate(testing_data,tree[i]))\n"
   ]
  },
  {
   "cell_type": "code",
   "execution_count": 53,
   "metadata": {},
   "outputs": [
    {
     "data": {
      "text/plain": [
       "{0.2: (0.0, 26.666666666666668, 19.672131147540984),\n",
       " 0.4: (1.4150943396226416, 26.666666666666668, 19.672131147540984),\n",
       " 0.6: (9.433962264150944, 16.666666666666664, 19.672131147540984),\n",
       " 0.8: (17.92452830188679, 23.333333333333332, 26.229508196721312)}"
      ]
     },
     "execution_count": 53,
     "metadata": {},
     "output_type": "execute_result"
    }
   ],
   "source": [
    "Error"
   ]
  },
  {
   "cell_type": "code",
   "execution_count": 64,
   "metadata": {},
   "outputs": [
    {
     "data": {
      "text/html": [
       "<div>\n",
       "<style scoped>\n",
       "    .dataframe tbody tr th:only-of-type {\n",
       "        vertical-align: middle;\n",
       "    }\n",
       "\n",
       "    .dataframe tbody tr th {\n",
       "        vertical-align: top;\n",
       "    }\n",
       "\n",
       "    .dataframe thead th {\n",
       "        text-align: right;\n",
       "    }\n",
       "</style>\n",
       "<table border=\"1\" class=\"dataframe\">\n",
       "  <thead>\n",
       "    <tr style=\"text-align: right;\">\n",
       "      <th></th>\n",
       "      <th>Train_Error</th>\n",
       "      <th>Validation_Error</th>\n",
       "      <th>Test_Error</th>\n",
       "      <th>Cut-off_values</th>\n",
       "    </tr>\n",
       "  </thead>\n",
       "  <tbody>\n",
       "    <tr>\n",
       "      <td>1</td>\n",
       "      <td>0.000000</td>\n",
       "      <td>26.666667</td>\n",
       "      <td>19.672131</td>\n",
       "      <td>0.2</td>\n",
       "    </tr>\n",
       "    <tr>\n",
       "      <td>2</td>\n",
       "      <td>1.415094</td>\n",
       "      <td>26.666667</td>\n",
       "      <td>19.672131</td>\n",
       "      <td>0.4</td>\n",
       "    </tr>\n",
       "    <tr>\n",
       "      <td>3</td>\n",
       "      <td>9.433962</td>\n",
       "      <td>16.666667</td>\n",
       "      <td>19.672131</td>\n",
       "      <td>0.6</td>\n",
       "    </tr>\n",
       "    <tr>\n",
       "      <td>4</td>\n",
       "      <td>17.924528</td>\n",
       "      <td>23.333333</td>\n",
       "      <td>26.229508</td>\n",
       "      <td>0.8</td>\n",
       "    </tr>\n",
       "  </tbody>\n",
       "</table>\n",
       "</div>"
      ],
      "text/plain": [
       "   Train_Error  Validation_Error  Test_Error  Cut-off_values\n",
       "1     0.000000         26.666667   19.672131             0.2\n",
       "2     1.415094         26.666667   19.672131             0.4\n",
       "3     9.433962         16.666667   19.672131             0.6\n",
       "4    17.924528         23.333333   26.229508             0.8"
      ]
     },
     "execution_count": 64,
     "metadata": {},
     "output_type": "execute_result"
    }
   ],
   "source": [
    "df=pd.DataFrame(Error).T\n",
    "df.rename(index={0.2:1,0.4:2,0.6:3,0.8:4},columns={0:'Train_Error',1:'Validation_Error',2:'Test_Error'},inplace=True)\n",
    "df['Cut-off_values']=[0.2,0.4,0.6,0.8]\n",
    "df"
   ]
  },
  {
   "cell_type": "markdown",
   "metadata": {},
   "source": [
    "# Plot"
   ]
  },
  {
   "cell_type": "code",
   "execution_count": 79,
   "metadata": {},
   "outputs": [
    {
     "data": {
      "image/png": "[encoded data removed]",
      "text/plain": [
       "<Figure size 432x288 with 1 Axes>"
      ]
     },
     "metadata": {
      "needs_background": "light"
     },
     "output_type": "display_data"
    }
   ],
   "source": [
    "fig, ax = plt.subplots()\n",
    "df.iloc[:,:-1].plot(ax=ax)\n",
    "ax.set_title('Train,Validation & Test error for each tree\\nTree  cut-off\\n1  0.2\\n2  0.4\\n3  0.6\\n4  0.8')\n",
    "ax.legend([\"train_error\",\"validation_error\", \"test_error\"])\n",
    "ax.set_xlabel('Tree')\n",
    "ax.set_ylabel('Error')\n",
    "plt.show()"
   ]
  },
  {
   "cell_type": "code",
   "execution_count": 69,
   "metadata": {},
   "outputs": [
    {
     "name": "stdout",
     "output_type": "stream",
     "text": [
      "{'ca': {0: {'exang': {0: 1,\n",
      "                      1: {'slope': {0: {'sex': {0: 1, 1: 0}},\n",
      "                                    1: {'thal': {0: 0,\n",
      "                                                 1: 0,\n",
      "                                                 2: {'age': {0: 1,\n",
      "                                                             1: {'sex': {0: 0,\n",
      "                                                                         1: 1}}}},\n",
      "                                                 3: 0}},\n",
      "                                    2: 1}}}},\n",
      "        1: {'cp': {0: 0,\n",
      "                   1: {'age': {0: 1, 1: 0}},\n",
      "                   2: {'slope': {0: 1, 1: 0, 2: 1}},\n",
      "                   3: {'chol': {0: 1, 1: 0}}}},\n",
      "        2: 0,\n",
      "        3: {'trestbps': {0: {'chol': {0: {'fbs': {0: {'age': {0: 0,\n",
      "                                                              1: {'cp': {0: 0,\n",
      "                                                                         2: 1}}}},\n",
      "                                                  1: 1}},\n",
      "                                      1: 0}},\n",
      "                         1: 0}},\n",
      "        4: {'cp': {0: 0, 1: 1, 2: 1}}}}\n"
     ]
    }
   ],
   "source": [
    "#tree trained for cut-off value 0.6\n",
    "pprint(tree[0.6])"
   ]
  },
  {
   "cell_type": "code",
   "execution_count": null,
   "metadata": {},
   "outputs": [],
   "source": []
  }
 ],
 "metadata": {
  "kernelspec": {
   "display_name": "Python 3",
   "language": "python",
   "name": "python3"
  },
  "language_info": {
   "codemirror_mode": {
    "name": "ipython",
    "version": 3
   },
   "file_extension": ".py",
   "mimetype": "text/x-python",
   "name": "python",
   "nbconvert_exporter": "python",
   "pygments_lexer": "ipython3",
   "version": "3.7.4"
  }
 },
 "nbformat": 4,
 "nbformat_minor": 2
}
