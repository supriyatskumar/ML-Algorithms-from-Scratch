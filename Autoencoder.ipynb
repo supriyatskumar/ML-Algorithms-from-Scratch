{
 "cells": [
  {
   "cell_type": "code",
   "execution_count": 1,
   "metadata": {},
   "outputs": [],
   "source": [
    "import torch\n",
    "import torch.nn as nn\n",
    "import torch.nn.functional as F\n",
    "import torch.optim as optim\n",
    "import matplotlib.pyplot as plt\n",
    "\n",
    "from torch.utils.data import DataLoader\n",
    "from torchvision import datasets, transforms"
   ]
  },
  {
   "cell_type": "code",
   "execution_count": 2,
   "metadata": {},
   "outputs": [],
   "source": [
    "transform = transforms.Compose([transforms.ToTensor()])\n",
    "\n",
    "train_dataset = datasets.MNIST(root=\"~/torch_datasets\", train=True, transform=transform, download=True)\n",
    "test_dataset = datasets.MNIST(root=\"~/torch_datasets\", train=False, transform=transform, download=True)\n",
    "\n",
    "train_loader = DataLoader(train_dataset, batch_size=256, shuffle=True, num_workers=4)\n",
    "test_loader = DataLoader(test_dataset, batch_size=256, shuffle=False, num_workers=4)"
   ]
  },
  {
   "cell_type": "code",
   "execution_count": 3,
   "metadata": {},
   "outputs": [],
   "source": [
    "class AE(nn.Module):\n",
    "    def __init__(self):\n",
    "        super().__init__()\n",
    "        self.encoder_hidden_layer = nn.Linear(in_features=784, out_features=128)\n",
    "        self.encoder_output_layer = nn.Linear(in_features=128, out_features=32)\n",
    "        self.decoder_hidden_layer = nn.Linear(in_features=32, out_features=128)\n",
    "        self.decoder_output_layer = nn.Linear(in_features=128, out_features=784)\n",
    "\n",
    "    def forward(self, features):\n",
    "        activation = self.encoder_hidden_layer(features)\n",
    "        activation = torch.sigmoid(activation)\n",
    "        code = self.encoder_output_layer(activation)\n",
    "        code = torch.sigmoid(code)\n",
    "        activation = self.decoder_hidden_layer(code)\n",
    "        activation = torch.sigmoid(activation)\n",
    "        activation = self.decoder_output_layer(activation)\n",
    "        reconstructed = torch.sigmoid(activation)\n",
    "        return reconstructed"
   ]
  },
  {
   "cell_type": "code",
   "execution_count": 4,
   "metadata": {},
   "outputs": [],
   "source": [
    "device = torch.device(\"cuda\" if torch.cuda.is_available() else \"cpu\")\n",
    "\n",
    "model = AE().to(device)\n",
    "optimizer = optim.Adam(model.parameters(), lr=0.01)\n",
    "criterion = nn.MSELoss()"
   ]
  },
  {
   "cell_type": "code",
   "execution_count": 5,
   "metadata": {},
   "outputs": [],
   "source": [
    "epochs=50"
   ]
  },
  {
   "cell_type": "code",
   "execution_count": 6,
   "metadata": {},
   "outputs": [
    {
     "name": "stdout",
     "output_type": "stream",
     "text": [
      "epoch : 1/50, loss = 0.061315\n",
      "epoch : 2/50, loss = 0.036558\n",
      "epoch : 3/50, loss = 0.026292\n",
      "epoch : 4/50, loss = 0.021204\n",
      "epoch : 5/50, loss = 0.018131\n",
      "epoch : 6/50, loss = 0.015934\n",
      "epoch : 7/50, loss = 0.014477\n",
      "epoch : 8/50, loss = 0.013304\n",
      "epoch : 9/50, loss = 0.012546\n",
      "epoch : 10/50, loss = 0.011847\n",
      "epoch : 11/50, loss = 0.011264\n",
      "epoch : 12/50, loss = 0.010819\n",
      "epoch : 13/50, loss = 0.010340\n",
      "epoch : 14/50, loss = 0.009977\n",
      "epoch : 15/50, loss = 0.009715\n",
      "epoch : 16/50, loss = 0.009372\n",
      "epoch : 17/50, loss = 0.009179\n",
      "epoch : 18/50, loss = 0.008953\n",
      "epoch : 19/50, loss = 0.008758\n",
      "epoch : 20/50, loss = 0.008532\n",
      "epoch : 21/50, loss = 0.008381\n",
      "epoch : 22/50, loss = 0.008234\n",
      "epoch : 23/50, loss = 0.008137\n",
      "epoch : 24/50, loss = 0.007937\n",
      "epoch : 25/50, loss = 0.007826\n",
      "epoch : 26/50, loss = 0.007702\n",
      "epoch : 27/50, loss = 0.007611\n",
      "epoch : 28/50, loss = 0.007620\n",
      "epoch : 29/50, loss = 0.007408\n",
      "epoch : 30/50, loss = 0.007350\n",
      "epoch : 31/50, loss = 0.007294\n",
      "epoch : 32/50, loss = 0.007245\n",
      "epoch : 33/50, loss = 0.007194\n",
      "epoch : 34/50, loss = 0.007101\n",
      "epoch : 35/50, loss = 0.007104\n",
      "epoch : 36/50, loss = 0.007068\n",
      "epoch : 37/50, loss = 0.006961\n",
      "epoch : 38/50, loss = 0.006958\n",
      "epoch : 39/50, loss = 0.006868\n",
      "epoch : 40/50, loss = 0.006854\n",
      "epoch : 41/50, loss = 0.006825\n",
      "epoch : 42/50, loss = 0.006773\n",
      "epoch : 43/50, loss = 0.006733\n",
      "epoch : 44/50, loss = 0.006740\n",
      "epoch : 45/50, loss = 0.006729\n",
      "epoch : 46/50, loss = 0.006627\n",
      "epoch : 47/50, loss = 0.006613\n",
      "epoch : 48/50, loss = 0.006620\n",
      "epoch : 49/50, loss = 0.006548\n",
      "epoch : 50/50, loss = 0.006604\n"
     ]
    }
   ],
   "source": [
    "total_loss=[]\n",
    "for epoch in range(epochs):\n",
    "    loss = 0\n",
    "    for batch_features, _ in train_loader:\n",
    "        batch_features = batch_features.view(-1, 784).to(device)\n",
    "        \n",
    "        optimizer.zero_grad()\n",
    "        \n",
    "        outputs = model(batch_features)\n",
    "        train_loss = criterion(outputs, batch_features)\n",
    "        train_loss.backward()\n",
    "        optimizer.step()     \n",
    "        loss += train_loss.item()    \n",
    "    loss = loss / len(train_loader)\n",
    "    total_loss.append(loss)\n",
    "    print(\"epoch : {}/{}, loss = {:.6f}\".format(epoch + 1, epochs, loss))"
   ]
  },
  {
   "cell_type": "code",
   "execution_count": 7,
   "metadata": {},
   "outputs": [
    {
     "data": {
      "image/png": "[encoded data removed]",
      "text/plain": [
       "<Figure size 432x288 with 1 Axes>"
      ]
     },
     "metadata": {
      "needs_background": "light"
     },
     "output_type": "display_data"
    }
   ],
   "source": [
    "plt.plot(total_loss)\n",
    "plt.show()"
   ]
  },
  {
   "cell_type": "code",
   "execution_count": 8,
   "metadata": {},
   "outputs": [],
   "source": [
    "def show_torch_image(torch_tensor):\n",
    "    plt.imshow(torch_tensor.numpy().reshape(28, 28), cmap='gray')\n",
    "    plt.show()"
   ]
  },
  {
   "cell_type": "code",
   "execution_count": 9,
   "metadata": {},
   "outputs": [
    {
     "data": {
      "text/plain": [
       "10000"
      ]
     },
     "execution_count": 9,
     "metadata": {},
     "output_type": "execute_result"
    }
   ],
   "source": [
    "model.eval()\n",
    "predictions = []\n",
    "\n",
    "for batch_features, _ in test_loader:\n",
    "    batch_features = batch_features.view(-1, 784).to(device)\n",
    "    pred = model(batch_features)       \n",
    "    for prediction in pred:\n",
    "        predictions.append(prediction)\n",
    "            \n",
    "        \n",
    "        \n",
    "len(predictions)   "
   ]
  },
  {
   "cell_type": "code",
   "execution_count": 17,
   "metadata": {},
   "outputs": [
    {
     "data": {
      "text/plain": [
       "torch.Size([784])"
      ]
     },
     "execution_count": 17,
     "metadata": {},
     "output_type": "execute_result"
    }
   ],
   "source": [
    "predictions[0].shape"
   ]
  },
  {
   "cell_type": "code",
   "execution_count": 10,
   "metadata": {},
   "outputs": [
    {
     "data": {
      "image/png": "[encoded data removed]",
      "text/plain": [
       "<Figure size 432x288 with 1 Axes>"
      ]
     },
     "metadata": {
      "needs_background": "light"
     },
     "output_type": "display_data"
    }
   ],
   "source": [
    "# Real Image\n",
    "show_torch_image(test_dataset[4][0])"
   ]
  },
  {
   "cell_type": "code",
   "execution_count": 11,
   "metadata": {},
   "outputs": [
    {
     "data": {
      "image/png": "[encoded data removed]",
      "text/plain": [
       "<Figure size 432x288 with 1 Axes>"
      ]
     },
     "metadata": {
      "needs_background": "light"
     },
     "output_type": "display_data"
    }
   ],
   "source": [
    "# generated image\n",
    "show_torch_image(predictions[4].detach())"
   ]
  },
  {
   "cell_type": "code",
   "execution_count": null,
   "metadata": {},
   "outputs": [],
   "source": []
  }
 ],
 "metadata": {
  "kernelspec": {
   "display_name": "Python 3",
   "language": "python",
   "name": "python3"
  },
  "language_info": {
   "codemirror_mode": {
    "name": "ipython",
    "version": 3
   },
   "file_extension": ".py",
   "mimetype": "text/x-python",
   "name": "python",
   "nbconvert_exporter": "python",
   "pygments_lexer": "ipython3",
   "version": "3.7.4"
  }
 },
 "nbformat": 4,
 "nbformat_minor": 4
}
